{
 "cells": [
  {
   "cell_type": "code",
   "execution_count": 1,
   "metadata": {
    "id": "dRyDG0Q6iOhR"
   },
   "outputs": [],
   "source": [
    "# importing all the necessary liraries/modules\n",
    "\n",
    "import io\n",
    "import numpy as np\n",
    "import pandas as pd\n",
    "import matplotlib.pyplot as plt\n",
    "import seaborn as sns\n",
    "import random\n",
    "import json\n",
    "import math\n",
    "from sklearn.preprocessing import LabelEncoder\n",
    "from sklearn.preprocessing import OneHotEncoder\n",
    "from sklearn.preprocessing import StandardScaler\n",
    "from sklearn.preprocessing import MinMaxScaler\n",
    "from scipy.stats import zscore\n",
    "from sklearn.linear_model import LinearRegression\n",
    "from sklearn.naive_bayes import GaussianNB\n",
    "from sklearn.model_selection import train_test_split\n",
    "from sklearn.metrics import r2_score\n",
    "from sklearn.metrics import mean_absolute_error\n",
    "from sklearn.metrics import mean_squared_error\n",
    "from sklearn.metrics import classification_report"
   ]
  },
  {
   "cell_type": "markdown",
   "metadata": {
    "id": "HimNk1uFkDcW"
   },
   "source": [
    "# **Importing the dataset**:"
   ]
  },
  {
   "cell_type": "code",
   "execution_count": 2,
   "metadata": {
    "id": "DgRad6EyinHp"
   },
   "outputs": [],
   "source": [
    "# Importing the dataset onto python\n",
    "df = pd.read_csv('C:/Users/harshitha/Downloads/Life Expectancy Data_HV22.csv')"
   ]
  },
  {
   "cell_type": "code",
   "execution_count": 3,
   "metadata": {
    "id": "TJZnlR1GzVVr"
   },
   "outputs": [],
   "source": [
    "# Moving the Target column to the end\n",
    "\n",
    "def moveColumn(df, column_name, position):\n",
    "  column_to_move = df.pop(column_name)\n",
    "  df.insert(position, column_name, column_to_move)\n",
    "\n",
    "moveColumn(df, 'Life expectancy ', 21)"
   ]
  },
  {
   "cell_type": "code",
   "execution_count": 4,
   "metadata": {
    "colab": {
     "base_uri": "https://localhost:8080/",
     "height": 314
    },
    "id": "FVlPEQgvjfns",
    "outputId": "fb9df442-fbbb-406d-aeb6-663d0bdf4b55"
   },
   "outputs": [
    {
     "data": {
      "text/html": [
       "<div>\n",
       "<style scoped>\n",
       "    .dataframe tbody tr th:only-of-type {\n",
       "        vertical-align: middle;\n",
       "    }\n",
       "\n",
       "    .dataframe tbody tr th {\n",
       "        vertical-align: top;\n",
       "    }\n",
       "\n",
       "    .dataframe thead th {\n",
       "        text-align: right;\n",
       "    }\n",
       "</style>\n",
       "<table border=\"1\" class=\"dataframe\">\n",
       "  <thead>\n",
       "    <tr style=\"text-align: right;\">\n",
       "      <th></th>\n",
       "      <th>Country</th>\n",
       "      <th>Year</th>\n",
       "      <th>Status</th>\n",
       "      <th>Adult Mortality</th>\n",
       "      <th>infant deaths</th>\n",
       "      <th>Alcohol</th>\n",
       "      <th>percentage expenditure</th>\n",
       "      <th>Hepatitis B</th>\n",
       "      <th>Measles</th>\n",
       "      <th>BMI</th>\n",
       "      <th>...</th>\n",
       "      <th>Total expenditure</th>\n",
       "      <th>Diphtheria</th>\n",
       "      <th>HIV/AIDS</th>\n",
       "      <th>GDP</th>\n",
       "      <th>Population</th>\n",
       "      <th>thinness  1-19 years</th>\n",
       "      <th>thinness 5-9 years</th>\n",
       "      <th>Income composition of resources</th>\n",
       "      <th>Schooling</th>\n",
       "      <th>Life expectancy</th>\n",
       "    </tr>\n",
       "  </thead>\n",
       "  <tbody>\n",
       "    <tr>\n",
       "      <th>0</th>\n",
       "      <td>Afghanistan</td>\n",
       "      <td>2015</td>\n",
       "      <td>Developing</td>\n",
       "      <td>263.0</td>\n",
       "      <td>62</td>\n",
       "      <td>0.01</td>\n",
       "      <td>71.279624</td>\n",
       "      <td>65.0</td>\n",
       "      <td>1154</td>\n",
       "      <td>19.1</td>\n",
       "      <td>...</td>\n",
       "      <td>8.16</td>\n",
       "      <td>65.0</td>\n",
       "      <td>0.1</td>\n",
       "      <td>584.259210</td>\n",
       "      <td>33736494.0</td>\n",
       "      <td>17.2</td>\n",
       "      <td>17.3</td>\n",
       "      <td>0.479</td>\n",
       "      <td>10.1</td>\n",
       "      <td>65.0</td>\n",
       "    </tr>\n",
       "    <tr>\n",
       "      <th>1</th>\n",
       "      <td>Afghanistan</td>\n",
       "      <td>2014</td>\n",
       "      <td>Developing</td>\n",
       "      <td>271.0</td>\n",
       "      <td>64</td>\n",
       "      <td>0.01</td>\n",
       "      <td>73.523582</td>\n",
       "      <td>62.0</td>\n",
       "      <td>492</td>\n",
       "      <td>18.6</td>\n",
       "      <td>...</td>\n",
       "      <td>8.18</td>\n",
       "      <td>62.0</td>\n",
       "      <td>0.1</td>\n",
       "      <td>612.696514</td>\n",
       "      <td>327582.0</td>\n",
       "      <td>17.5</td>\n",
       "      <td>17.5</td>\n",
       "      <td>0.476</td>\n",
       "      <td>10.0</td>\n",
       "      <td>59.9</td>\n",
       "    </tr>\n",
       "    <tr>\n",
       "      <th>2</th>\n",
       "      <td>Afghanistan</td>\n",
       "      <td>2013</td>\n",
       "      <td>Developing</td>\n",
       "      <td>268.0</td>\n",
       "      <td>66</td>\n",
       "      <td>0.01</td>\n",
       "      <td>73.219243</td>\n",
       "      <td>64.0</td>\n",
       "      <td>430</td>\n",
       "      <td>18.1</td>\n",
       "      <td>...</td>\n",
       "      <td>8.13</td>\n",
       "      <td>64.0</td>\n",
       "      <td>0.1</td>\n",
       "      <td>631.744976</td>\n",
       "      <td>31731688.0</td>\n",
       "      <td>17.7</td>\n",
       "      <td>17.7</td>\n",
       "      <td>0.470</td>\n",
       "      <td>9.9</td>\n",
       "      <td>59.9</td>\n",
       "    </tr>\n",
       "    <tr>\n",
       "      <th>3</th>\n",
       "      <td>Afghanistan</td>\n",
       "      <td>2012</td>\n",
       "      <td>Developing</td>\n",
       "      <td>272.0</td>\n",
       "      <td>69</td>\n",
       "      <td>0.01</td>\n",
       "      <td>78.184215</td>\n",
       "      <td>67.0</td>\n",
       "      <td>2787</td>\n",
       "      <td>17.6</td>\n",
       "      <td>...</td>\n",
       "      <td>8.52</td>\n",
       "      <td>67.0</td>\n",
       "      <td>0.1</td>\n",
       "      <td>669.959000</td>\n",
       "      <td>3696958.0</td>\n",
       "      <td>17.9</td>\n",
       "      <td>18.0</td>\n",
       "      <td>0.463</td>\n",
       "      <td>9.8</td>\n",
       "      <td>59.5</td>\n",
       "    </tr>\n",
       "    <tr>\n",
       "      <th>4</th>\n",
       "      <td>Afghanistan</td>\n",
       "      <td>2011</td>\n",
       "      <td>Developing</td>\n",
       "      <td>275.0</td>\n",
       "      <td>71</td>\n",
       "      <td>0.01</td>\n",
       "      <td>7.097109</td>\n",
       "      <td>68.0</td>\n",
       "      <td>3013</td>\n",
       "      <td>17.2</td>\n",
       "      <td>...</td>\n",
       "      <td>7.87</td>\n",
       "      <td>68.0</td>\n",
       "      <td>0.1</td>\n",
       "      <td>63.537231</td>\n",
       "      <td>2978599.0</td>\n",
       "      <td>18.2</td>\n",
       "      <td>18.2</td>\n",
       "      <td>0.454</td>\n",
       "      <td>9.5</td>\n",
       "      <td>59.2</td>\n",
       "    </tr>\n",
       "  </tbody>\n",
       "</table>\n",
       "<p>5 rows × 22 columns</p>\n",
       "</div>"
      ],
      "text/plain": [
       "       Country  Year      Status  Adult Mortality  infant deaths  Alcohol  \\\n",
       "0  Afghanistan  2015  Developing            263.0             62     0.01   \n",
       "1  Afghanistan  2014  Developing            271.0             64     0.01   \n",
       "2  Afghanistan  2013  Developing            268.0             66     0.01   \n",
       "3  Afghanistan  2012  Developing            272.0             69     0.01   \n",
       "4  Afghanistan  2011  Developing            275.0             71     0.01   \n",
       "\n",
       "   percentage expenditure  Hepatitis B  Measles    BMI   ...  \\\n",
       "0               71.279624         65.0      1154   19.1  ...   \n",
       "1               73.523582         62.0       492   18.6  ...   \n",
       "2               73.219243         64.0       430   18.1  ...   \n",
       "3               78.184215         67.0      2787   17.6  ...   \n",
       "4                7.097109         68.0      3013   17.2  ...   \n",
       "\n",
       "   Total expenditure  Diphtheria    HIV/AIDS         GDP  Population  \\\n",
       "0               8.16         65.0        0.1  584.259210  33736494.0   \n",
       "1               8.18         62.0        0.1  612.696514    327582.0   \n",
       "2               8.13         64.0        0.1  631.744976  31731688.0   \n",
       "3               8.52         67.0        0.1  669.959000   3696958.0   \n",
       "4               7.87         68.0        0.1   63.537231   2978599.0   \n",
       "\n",
       "    thinness  1-19 years   thinness 5-9 years  \\\n",
       "0                   17.2                 17.3   \n",
       "1                   17.5                 17.5   \n",
       "2                   17.7                 17.7   \n",
       "3                   17.9                 18.0   \n",
       "4                   18.2                 18.2   \n",
       "\n",
       "   Income composition of resources  Schooling  Life expectancy   \n",
       "0                            0.479       10.1              65.0  \n",
       "1                            0.476       10.0              59.9  \n",
       "2                            0.470        9.9              59.9  \n",
       "3                            0.463        9.8              59.5  \n",
       "4                            0.454        9.5              59.2  \n",
       "\n",
       "[5 rows x 22 columns]"
      ]
     },
     "execution_count": 4,
     "metadata": {},
     "output_type": "execute_result"
    }
   ],
   "source": [
    "df.head()"
   ]
  },
  {
   "cell_type": "markdown",
   "metadata": {
    "id": "iFJ7cl35j09q"
   },
   "source": [
    "# **Basic Summary about df**:"
   ]
  },
  {
   "cell_type": "code",
   "execution_count": 5,
   "metadata": {
    "colab": {
     "base_uri": "https://localhost:8080/",
     "height": 416
    },
    "id": "0TR-dPtRjnV1",
    "outputId": "d5adf92b-730b-416a-ef59-842672048c68"
   },
   "outputs": [
    {
     "data": {
      "text/html": [
       "<div>\n",
       "<style scoped>\n",
       "    .dataframe tbody tr th:only-of-type {\n",
       "        vertical-align: middle;\n",
       "    }\n",
       "\n",
       "    .dataframe tbody tr th {\n",
       "        vertical-align: top;\n",
       "    }\n",
       "\n",
       "    .dataframe thead th {\n",
       "        text-align: right;\n",
       "    }\n",
       "</style>\n",
       "<table border=\"1\" class=\"dataframe\">\n",
       "  <thead>\n",
       "    <tr style=\"text-align: right;\">\n",
       "      <th></th>\n",
       "      <th>Year</th>\n",
       "      <th>Adult Mortality</th>\n",
       "      <th>infant deaths</th>\n",
       "      <th>Alcohol</th>\n",
       "      <th>percentage expenditure</th>\n",
       "      <th>Hepatitis B</th>\n",
       "      <th>Measles</th>\n",
       "      <th>BMI</th>\n",
       "      <th>under-five deaths</th>\n",
       "      <th>Polio</th>\n",
       "      <th>Total expenditure</th>\n",
       "      <th>Diphtheria</th>\n",
       "      <th>HIV/AIDS</th>\n",
       "      <th>GDP</th>\n",
       "      <th>Population</th>\n",
       "      <th>thinness  1-19 years</th>\n",
       "      <th>thinness 5-9 years</th>\n",
       "      <th>Income composition of resources</th>\n",
       "      <th>Schooling</th>\n",
       "      <th>Life expectancy</th>\n",
       "    </tr>\n",
       "  </thead>\n",
       "  <tbody>\n",
       "    <tr>\n",
       "      <th>count</th>\n",
       "      <td>2938.000000</td>\n",
       "      <td>2928.000000</td>\n",
       "      <td>2938.000000</td>\n",
       "      <td>2744.000000</td>\n",
       "      <td>2938.000000</td>\n",
       "      <td>2385.000000</td>\n",
       "      <td>2938.000000</td>\n",
       "      <td>2904.000000</td>\n",
       "      <td>2938.000000</td>\n",
       "      <td>2919.000000</td>\n",
       "      <td>2712.00000</td>\n",
       "      <td>2919.000000</td>\n",
       "      <td>2938.000000</td>\n",
       "      <td>2490.000000</td>\n",
       "      <td>2.286000e+03</td>\n",
       "      <td>2904.000000</td>\n",
       "      <td>2904.000000</td>\n",
       "      <td>2771.000000</td>\n",
       "      <td>2775.000000</td>\n",
       "      <td>2928.000000</td>\n",
       "    </tr>\n",
       "    <tr>\n",
       "      <th>mean</th>\n",
       "      <td>2007.518720</td>\n",
       "      <td>164.796448</td>\n",
       "      <td>30.303948</td>\n",
       "      <td>4.602861</td>\n",
       "      <td>738.251295</td>\n",
       "      <td>80.940461</td>\n",
       "      <td>2419.592240</td>\n",
       "      <td>38.321247</td>\n",
       "      <td>42.035739</td>\n",
       "      <td>82.550188</td>\n",
       "      <td>5.93819</td>\n",
       "      <td>82.324084</td>\n",
       "      <td>1.742103</td>\n",
       "      <td>7483.158469</td>\n",
       "      <td>1.275338e+07</td>\n",
       "      <td>4.839704</td>\n",
       "      <td>4.870317</td>\n",
       "      <td>0.627551</td>\n",
       "      <td>11.992793</td>\n",
       "      <td>69.224932</td>\n",
       "    </tr>\n",
       "    <tr>\n",
       "      <th>std</th>\n",
       "      <td>4.613841</td>\n",
       "      <td>124.292079</td>\n",
       "      <td>117.926501</td>\n",
       "      <td>4.052413</td>\n",
       "      <td>1987.914858</td>\n",
       "      <td>25.070016</td>\n",
       "      <td>11467.272489</td>\n",
       "      <td>20.044034</td>\n",
       "      <td>160.445548</td>\n",
       "      <td>23.428046</td>\n",
       "      <td>2.49832</td>\n",
       "      <td>23.716912</td>\n",
       "      <td>5.077785</td>\n",
       "      <td>14270.169342</td>\n",
       "      <td>6.101210e+07</td>\n",
       "      <td>4.420195</td>\n",
       "      <td>4.508882</td>\n",
       "      <td>0.210904</td>\n",
       "      <td>3.358920</td>\n",
       "      <td>9.523867</td>\n",
       "    </tr>\n",
       "    <tr>\n",
       "      <th>min</th>\n",
       "      <td>2000.000000</td>\n",
       "      <td>1.000000</td>\n",
       "      <td>0.000000</td>\n",
       "      <td>0.010000</td>\n",
       "      <td>0.000000</td>\n",
       "      <td>1.000000</td>\n",
       "      <td>0.000000</td>\n",
       "      <td>1.000000</td>\n",
       "      <td>0.000000</td>\n",
       "      <td>3.000000</td>\n",
       "      <td>0.37000</td>\n",
       "      <td>2.000000</td>\n",
       "      <td>0.100000</td>\n",
       "      <td>1.681350</td>\n",
       "      <td>3.400000e+01</td>\n",
       "      <td>0.100000</td>\n",
       "      <td>0.100000</td>\n",
       "      <td>0.000000</td>\n",
       "      <td>0.000000</td>\n",
       "      <td>36.300000</td>\n",
       "    </tr>\n",
       "    <tr>\n",
       "      <th>25%</th>\n",
       "      <td>2004.000000</td>\n",
       "      <td>74.000000</td>\n",
       "      <td>0.000000</td>\n",
       "      <td>0.877500</td>\n",
       "      <td>4.685343</td>\n",
       "      <td>77.000000</td>\n",
       "      <td>0.000000</td>\n",
       "      <td>19.300000</td>\n",
       "      <td>0.000000</td>\n",
       "      <td>78.000000</td>\n",
       "      <td>4.26000</td>\n",
       "      <td>78.000000</td>\n",
       "      <td>0.100000</td>\n",
       "      <td>463.935626</td>\n",
       "      <td>1.957932e+05</td>\n",
       "      <td>1.600000</td>\n",
       "      <td>1.500000</td>\n",
       "      <td>0.493000</td>\n",
       "      <td>10.100000</td>\n",
       "      <td>63.100000</td>\n",
       "    </tr>\n",
       "    <tr>\n",
       "      <th>50%</th>\n",
       "      <td>2008.000000</td>\n",
       "      <td>144.000000</td>\n",
       "      <td>3.000000</td>\n",
       "      <td>3.755000</td>\n",
       "      <td>64.912906</td>\n",
       "      <td>92.000000</td>\n",
       "      <td>17.000000</td>\n",
       "      <td>43.500000</td>\n",
       "      <td>4.000000</td>\n",
       "      <td>93.000000</td>\n",
       "      <td>5.75500</td>\n",
       "      <td>93.000000</td>\n",
       "      <td>0.100000</td>\n",
       "      <td>1766.947595</td>\n",
       "      <td>1.386542e+06</td>\n",
       "      <td>3.300000</td>\n",
       "      <td>3.300000</td>\n",
       "      <td>0.677000</td>\n",
       "      <td>12.300000</td>\n",
       "      <td>72.100000</td>\n",
       "    </tr>\n",
       "    <tr>\n",
       "      <th>75%</th>\n",
       "      <td>2012.000000</td>\n",
       "      <td>228.000000</td>\n",
       "      <td>22.000000</td>\n",
       "      <td>7.702500</td>\n",
       "      <td>441.534144</td>\n",
       "      <td>97.000000</td>\n",
       "      <td>360.250000</td>\n",
       "      <td>56.200000</td>\n",
       "      <td>28.000000</td>\n",
       "      <td>97.000000</td>\n",
       "      <td>7.49250</td>\n",
       "      <td>97.000000</td>\n",
       "      <td>0.800000</td>\n",
       "      <td>5910.806335</td>\n",
       "      <td>7.420359e+06</td>\n",
       "      <td>7.200000</td>\n",
       "      <td>7.200000</td>\n",
       "      <td>0.779000</td>\n",
       "      <td>14.300000</td>\n",
       "      <td>75.700000</td>\n",
       "    </tr>\n",
       "    <tr>\n",
       "      <th>max</th>\n",
       "      <td>2015.000000</td>\n",
       "      <td>723.000000</td>\n",
       "      <td>1800.000000</td>\n",
       "      <td>17.870000</td>\n",
       "      <td>19479.911610</td>\n",
       "      <td>99.000000</td>\n",
       "      <td>212183.000000</td>\n",
       "      <td>87.300000</td>\n",
       "      <td>2500.000000</td>\n",
       "      <td>99.000000</td>\n",
       "      <td>17.60000</td>\n",
       "      <td>99.000000</td>\n",
       "      <td>50.600000</td>\n",
       "      <td>119172.741800</td>\n",
       "      <td>1.293859e+09</td>\n",
       "      <td>27.700000</td>\n",
       "      <td>28.600000</td>\n",
       "      <td>0.948000</td>\n",
       "      <td>20.700000</td>\n",
       "      <td>89.000000</td>\n",
       "    </tr>\n",
       "  </tbody>\n",
       "</table>\n",
       "</div>"
      ],
      "text/plain": [
       "              Year  Adult Mortality  infant deaths      Alcohol  \\\n",
       "count  2938.000000      2928.000000    2938.000000  2744.000000   \n",
       "mean   2007.518720       164.796448      30.303948     4.602861   \n",
       "std       4.613841       124.292079     117.926501     4.052413   \n",
       "min    2000.000000         1.000000       0.000000     0.010000   \n",
       "25%    2004.000000        74.000000       0.000000     0.877500   \n",
       "50%    2008.000000       144.000000       3.000000     3.755000   \n",
       "75%    2012.000000       228.000000      22.000000     7.702500   \n",
       "max    2015.000000       723.000000    1800.000000    17.870000   \n",
       "\n",
       "       percentage expenditure  Hepatitis B       Measles          BMI   \\\n",
       "count             2938.000000  2385.000000    2938.000000  2904.000000   \n",
       "mean               738.251295    80.940461    2419.592240    38.321247   \n",
       "std               1987.914858    25.070016   11467.272489    20.044034   \n",
       "min                  0.000000     1.000000       0.000000     1.000000   \n",
       "25%                  4.685343    77.000000       0.000000    19.300000   \n",
       "50%                 64.912906    92.000000      17.000000    43.500000   \n",
       "75%                441.534144    97.000000     360.250000    56.200000   \n",
       "max              19479.911610    99.000000  212183.000000    87.300000   \n",
       "\n",
       "       under-five deaths         Polio  Total expenditure  Diphtheria   \\\n",
       "count         2938.000000  2919.000000         2712.00000  2919.000000   \n",
       "mean            42.035739    82.550188            5.93819    82.324084   \n",
       "std            160.445548    23.428046            2.49832    23.716912   \n",
       "min              0.000000     3.000000            0.37000     2.000000   \n",
       "25%              0.000000    78.000000            4.26000    78.000000   \n",
       "50%              4.000000    93.000000            5.75500    93.000000   \n",
       "75%             28.000000    97.000000            7.49250    97.000000   \n",
       "max           2500.000000    99.000000           17.60000    99.000000   \n",
       "\n",
       "          HIV/AIDS            GDP    Population   thinness  1-19 years  \\\n",
       "count  2938.000000    2490.000000  2.286000e+03            2904.000000   \n",
       "mean      1.742103    7483.158469  1.275338e+07               4.839704   \n",
       "std       5.077785   14270.169342  6.101210e+07               4.420195   \n",
       "min       0.100000       1.681350  3.400000e+01               0.100000   \n",
       "25%       0.100000     463.935626  1.957932e+05               1.600000   \n",
       "50%       0.100000    1766.947595  1.386542e+06               3.300000   \n",
       "75%       0.800000    5910.806335  7.420359e+06               7.200000   \n",
       "max      50.600000  119172.741800  1.293859e+09              27.700000   \n",
       "\n",
       "        thinness 5-9 years  Income composition of resources    Schooling  \\\n",
       "count          2904.000000                      2771.000000  2775.000000   \n",
       "mean              4.870317                         0.627551    11.992793   \n",
       "std               4.508882                         0.210904     3.358920   \n",
       "min               0.100000                         0.000000     0.000000   \n",
       "25%               1.500000                         0.493000    10.100000   \n",
       "50%               3.300000                         0.677000    12.300000   \n",
       "75%               7.200000                         0.779000    14.300000   \n",
       "max              28.600000                         0.948000    20.700000   \n",
       "\n",
       "       Life expectancy   \n",
       "count       2928.000000  \n",
       "mean          69.224932  \n",
       "std            9.523867  \n",
       "min           36.300000  \n",
       "25%           63.100000  \n",
       "50%           72.100000  \n",
       "75%           75.700000  \n",
       "max           89.000000  "
      ]
     },
     "execution_count": 5,
     "metadata": {},
     "output_type": "execute_result"
    }
   ],
   "source": [
    "# Basic statistical summary of the df\n",
    "df.describe()"
   ]
  },
  {
   "cell_type": "code",
   "execution_count": 6,
   "metadata": {
    "colab": {
     "base_uri": "https://localhost:8080/"
    },
    "id": "ppqWrI6qkT7K",
    "outputId": "86c5886c-2ac4-4cf0-c867-33a730ec46ec"
   },
   "outputs": [
    {
     "data": {
      "text/plain": [
       "Country                             object\n",
       "Year                                 int64\n",
       "Status                              object\n",
       "Adult Mortality                    float64\n",
       "infant deaths                        int64\n",
       "Alcohol                            float64\n",
       "percentage expenditure             float64\n",
       "Hepatitis B                        float64\n",
       "Measles                              int64\n",
       " BMI                               float64\n",
       "under-five deaths                    int64\n",
       "Polio                              float64\n",
       "Total expenditure                  float64\n",
       "Diphtheria                         float64\n",
       " HIV/AIDS                          float64\n",
       "GDP                                float64\n",
       "Population                         float64\n",
       " thinness  1-19 years              float64\n",
       " thinness 5-9 years                float64\n",
       "Income composition of resources    float64\n",
       "Schooling                          float64\n",
       "Life expectancy                    float64\n",
       "dtype: object"
      ]
     },
     "execution_count": 6,
     "metadata": {},
     "output_type": "execute_result"
    }
   ],
   "source": [
    "# data types of all the columns\n",
    "df.dtypes"
   ]
  },
  {
   "cell_type": "code",
   "execution_count": 7,
   "metadata": {
    "colab": {
     "base_uri": "https://localhost:8080/"
    },
    "id": "wha6arTVivDE",
    "outputId": "c955e72d-dfab-4472-84e3-80a531933e2e"
   },
   "outputs": [
    {
     "name": "stdout",
     "output_type": "stream",
     "text": [
      "Total number of NA values in df: 2563 \n",
      "Total number of columns in df: 22 \n",
      "There are 193 countries in total.\n"
     ]
    }
   ],
   "source": [
    "# Prnitin the basic idea about the df\n",
    "print(\"Total number of NA values in df:\", df.isna().sum().sum(), \"\\nTotal number of columns in df:\", len(df.columns), \"\\nThere are\", len(df['Country'].unique()), \"countries in total.\")"
   ]
  },
  {
   "cell_type": "markdown",
   "metadata": {
    "id": "1UMsqGHlkLBL"
   },
   "source": [
    "# **Dealing with all the missing values**:"
   ]
  },
  {
   "cell_type": "code",
   "execution_count": 8,
   "metadata": {
    "colab": {
     "base_uri": "https://localhost:8080/"
    },
    "id": "SqQqIPovjwO0",
    "outputId": "fc3ee8af-bea2-4f58-f5c7-403663d2c896"
   },
   "outputs": [
    {
     "data": {
      "text/plain": [
       "Country                              0\n",
       "Year                                 0\n",
       "Status                               0\n",
       "Adult Mortality                     10\n",
       "infant deaths                        0\n",
       "Alcohol                            194\n",
       "percentage expenditure               0\n",
       "Hepatitis B                        553\n",
       "Measles                              0\n",
       " BMI                                34\n",
       "under-five deaths                    0\n",
       "Polio                               19\n",
       "Total expenditure                  226\n",
       "Diphtheria                          19\n",
       " HIV/AIDS                            0\n",
       "GDP                                448\n",
       "Population                         652\n",
       " thinness  1-19 years               34\n",
       " thinness 5-9 years                 34\n",
       "Income composition of resources    167\n",
       "Schooling                          163\n",
       "Life expectancy                     10\n",
       "dtype: int64"
      ]
     },
     "execution_count": 8,
     "metadata": {},
     "output_type": "execute_result"
    }
   ],
   "source": [
    "# Calculating the number of NA values in each column\n",
    "df.isna().sum()"
   ]
  },
  {
   "cell_type": "markdown",
   "metadata": {
    "id": "HcRtuX7PN0Pn"
   },
   "source": [
    "### Country "
   ]
  },
  {
   "cell_type": "code",
   "execution_count": 9,
   "metadata": {
    "colab": {
     "base_uri": "https://localhost:8080/"
    },
    "id": "w6o9DQQWE879",
    "outputId": "0a4e5ff6-872c-40d4-8995-335266f06260"
   },
   "outputs": [
    {
     "data": {
      "text/plain": [
       "['Tuvalu',\n",
       " 'Cook Islands',\n",
       " 'Marshall Islands',\n",
       " 'Monaco',\n",
       " 'Palau',\n",
       " 'Niue',\n",
       " 'San Marino',\n",
       " 'Nauru',\n",
       " 'Saint Kitts and Nevis',\n",
       " 'Dominica']"
      ]
     },
     "execution_count": 9,
     "metadata": {},
     "output_type": "execute_result"
    }
   ],
   "source": [
    "# Eliminating all the countries with only 1 instance\n",
    "countries = df[\"Country\"].value_counts()\n",
    "oneCountry = list(countries[countries == 1].index)\n",
    "oneCountry"
   ]
  },
  {
   "cell_type": "code",
   "execution_count": 10,
   "metadata": {
    "id": "pjDZhagESmce"
   },
   "outputs": [],
   "source": [
    "for element in df[\"Country\"]:\n",
    "  if element in oneCountry:\n",
    "    indices = df[df[\"Country\"]==element].index\n",
    "    df.drop(indices,axis=0, inplace=True)"
   ]
  },
  {
   "cell_type": "code",
   "execution_count": 11,
   "metadata": {
    "id": "HyxO6hEsWlrg"
   },
   "outputs": [],
   "source": [
    "# resetting the index of the df\n",
    "df.reset_index(drop=True, inplace=True)"
   ]
  },
  {
   "cell_type": "markdown",
   "metadata": {
    "id": "938CWGH0xBO8"
   },
   "source": [
    "### Rest of the columns"
   ]
  },
  {
   "cell_type": "code",
   "execution_count": 12,
   "metadata": {
    "colab": {
     "base_uri": "https://localhost:8080/",
     "height": 690
    },
    "id": "scPA-IW_mROq",
    "outputId": "27eb9fc4-cd5f-4920-ee42-876225c8b339"
   },
   "outputs": [
    {
     "data": {
      "text/plain": [
       "<AxesSubplot: >"
      ]
     },
     "execution_count": 12,
     "metadata": {},
     "output_type": "execute_result"
    },
    {
     "data": {
      "image/png": "[encoded data removed]",
      "text/plain": [
       "<Figure size 432x288 with 1 Axes>"
      ]
     },
     "metadata": {
      "needs_background": "light"
     },
     "output_type": "display_data"
    }
   ],
   "source": [
    "# Plotting a correlation heatmap for all the NaN values\n",
    "sns.heatmap(df.isnull(),yticklabels=False,cbar=False,cmap=\"viridis\")"
   ]
  },
  {
   "cell_type": "code",
   "execution_count": 13,
   "metadata": {
    "id": "F8iX6CRNr0qv"
   },
   "outputs": [
    {
     "name": "stderr",
     "output_type": "stream",
     "text": [
      "<ipython-input-13-e45010ce39de>:4: FutureWarning: Not prepending group keys to the result index of transform-like apply. In the future, the group keys will be included in the index, regardless of whether the applied function returns a like-indexed object.\n",
      "To preserve the previous behavior, use\n",
      "\n",
      "\t>>> .groupby(..., group_keys=False)\n",
      "\n",
      "To adopt the future behavior and silence this warning, use \n",
      "\n",
      "\t>>> .groupby(..., group_keys=True)\n",
      "  df.groupby('Country').apply(lambda group: group.interpolate(method= 'linear'))\n"
     ]
    }
   ],
   "source": [
    "# Filling in all the NaN values through the 'interpolate' method\n",
    "\n",
    "df.reset_index(inplace=True)\n",
    "df.groupby('Country').apply(lambda group: group.interpolate(method= 'linear'))\n",
    "imputed_data = []\n",
    "for year in list(df.Year.unique()):\n",
    "    year_data = df[df.Year == year].copy()\n",
    "    for col in list(year_data.columns)[4:]:\n",
    "        year_data[col] = year_data[col].fillna(year_data[col].dropna().median()).copy()\n",
    "    imputed_data.append(year_data)\n",
    "df = pd.concat(imputed_data).copy()"
   ]
  },
  {
   "cell_type": "code",
   "execution_count": 14,
   "metadata": {
    "colab": {
     "base_uri": "https://localhost:8080/"
    },
    "id": "BNy7rNz4sZYh",
    "outputId": "cf24e76f-dccc-40b1-e5a8-0d0254fd4fd7"
   },
   "outputs": [
    {
     "name": "stdout",
     "output_type": "stream",
     "text": [
      "The number of NaN values in the df: 0\n"
     ]
    }
   ],
   "source": [
    "print(\"The number of NaN values in the df:\", df.isna().sum().sum())"
   ]
  },
  {
   "cell_type": "markdown",
   "metadata": {
    "id": "0I7fxcRx7nr7"
   },
   "source": [
    "# **EDA**"
   ]
  },
  {
   "cell_type": "markdown",
   "metadata": {
    "id": "lf7hnJv_-veg"
   },
   "source": [
    "1. Basic Plots"
   ]
  },
  {
   "cell_type": "markdown",
   "metadata": {
    "id": "2V_OfIic-yYh"
   },
   "source": [
    "2. Automated EDA"
   ]
  },
  {
   "cell_type": "code",
   "execution_count": 24,
   "metadata": {
    "id": "hgvTIO8d_E_7"
   },
   "outputs": [
    {
     "name": "stdout",
     "output_type": "stream",
     "text": [
      "Collecting pandas_profiling\n",
      "  Downloading pandas_profiling-3.5.0-py2.py3-none-any.whl (325 kB)\n",
      "Requirement already satisfied: pydantic<1.11,>=1.8.1 in c:\\users\\harshitha\\anaconda3\\lib\\site-packages (from pandas_profiling) (1.10.2)\n",
      "Collecting multimethod<1.10,>=1.4\n",
      "  Downloading multimethod-1.9-py3-none-any.whl (10 kB)\n",
      "Collecting htmlmin==0.1.12\n",
      "  Downloading htmlmin-0.1.12.tar.gz (19 kB)\n",
      "Collecting phik<0.13,>=0.11.1\n",
      "  Downloading phik-0.12.2-cp38-cp38-win_amd64.whl (677 kB)\n",
      "Requirement already satisfied: requests<2.29,>=2.24.0 in c:\\users\\harshitha\\anaconda3\\lib\\site-packages (from pandas_profiling) (2.25.1)\n",
      "Requirement already satisfied: numpy<1.24,>=1.16.0 in c:\\users\\harshitha\\anaconda3\\lib\\site-packages (from pandas_profiling) (1.22.4)\n",
      "Requirement already satisfied: jinja2<3.2,>=2.11.1 in c:\\users\\harshitha\\anaconda3\\lib\\site-packages (from pandas_profiling) (3.0.3)\n",
      "Collecting visions[type_image_path]==0.7.5\n",
      "  Downloading visions-0.7.5-py3-none-any.whl (102 kB)\n",
      "Requirement already satisfied: tqdm<4.65,>=4.48.2 in c:\\users\\harshitha\\anaconda3\\lib\\site-packages (from pandas_profiling) (4.59.0)\n",
      "Requirement already satisfied: matplotlib<3.7,>=3.2 in c:\\users\\harshitha\\anaconda3\\lib\\site-packages (from pandas_profiling) (3.6.2)\n",
      "Requirement already satisfied: seaborn<0.13,>=0.10.1 in c:\\users\\harshitha\\anaconda3\\lib\\site-packages (from pandas_profiling) (0.11.1)\n",
      "Collecting statsmodels<0.14,>=0.13.2\n",
      "  Using cached statsmodels-0.13.5-cp38-cp38-win_amd64.whl (9.2 MB)\n",
      "Collecting typeguard<2.14,>=2.13.2\n",
      "  Downloading typeguard-2.13.3-py3-none-any.whl (17 kB)\n",
      "Requirement already satisfied: pandas!=1.4.0,<1.6,>1.1 in c:\\users\\harshitha\\anaconda3\\lib\\site-packages (from pandas_profiling) (1.5.1)\n",
      "Requirement already satisfied: scipy<1.10,>=1.4.1 in c:\\users\\harshitha\\anaconda3\\lib\\site-packages (from pandas_profiling) (1.9.3)\n",
      "Requirement already satisfied: PyYAML<6.1,>=5.0.0 in c:\\users\\harshitha\\anaconda3\\lib\\site-packages (from pandas_profiling) (5.4.1)\n",
      "Requirement already satisfied: networkx>=2.4 in c:\\users\\harshitha\\anaconda3\\lib\\site-packages (from visions[type_image_path]==0.7.5->pandas_profiling) (2.5)\n",
      "Collecting tangled-up-in-unicode>=0.0.4\n",
      "  Downloading tangled_up_in_unicode-0.2.0-py3-none-any.whl (4.7 MB)\n",
      "Requirement already satisfied: attrs>=19.3.0 in c:\\users\\harshitha\\anaconda3\\lib\\site-packages (from visions[type_image_path]==0.7.5->pandas_profiling) (20.3.0)\n",
      "Requirement already satisfied: Pillow in c:\\users\\harshitha\\anaconda3\\lib\\site-packages (from visions[type_image_path]==0.7.5->pandas_profiling) (8.2.0)\n",
      "Collecting imagehash\n",
      "  Downloading ImageHash-4.3.1-py2.py3-none-any.whl (296 kB)\n",
      "Requirement already satisfied: MarkupSafe>=2.0 in c:\\users\\harshitha\\anaconda3\\lib\\site-packages (from jinja2<3.2,>=2.11.1->pandas_profiling) (2.1.1)\n",
      "Requirement already satisfied: python-dateutil>=2.7 in c:\\users\\harshitha\\anaconda3\\lib\\site-packages (from matplotlib<3.7,>=3.2->pandas_profiling) (2.8.1)\n",
      "Requirement already satisfied: contourpy>=1.0.1 in c:\\users\\harshitha\\anaconda3\\lib\\site-packages (from matplotlib<3.7,>=3.2->pandas_profiling) (1.0.6)\n",
      "Requirement already satisfied: cycler>=0.10 in c:\\users\\harshitha\\anaconda3\\lib\\site-packages (from matplotlib<3.7,>=3.2->pandas_profiling) (0.10.0)\n",
      "Requirement already satisfied: kiwisolver>=1.0.1 in c:\\users\\harshitha\\anaconda3\\lib\\site-packages (from matplotlib<3.7,>=3.2->pandas_profiling) (1.3.1)\n",
      "Requirement already satisfied: packaging>=20.0 in c:\\users\\harshitha\\anaconda3\\lib\\site-packages (from matplotlib<3.7,>=3.2->pandas_profiling) (21.3)\n",
      "Requirement already satisfied: pyparsing>=2.2.1 in c:\\users\\harshitha\\anaconda3\\lib\\site-packages (from matplotlib<3.7,>=3.2->pandas_profiling) (2.4.7)\n",
      "Requirement already satisfied: fonttools>=4.22.0 in c:\\users\\harshitha\\anaconda3\\lib\\site-packages (from matplotlib<3.7,>=3.2->pandas_profiling) (4.38.0)\n",
      "Requirement already satisfied: six in c:\\users\\harshitha\\anaconda3\\lib\\site-packages (from cycler>=0.10->matplotlib<3.7,>=3.2->pandas_profiling) (1.15.0)\n",
      "Requirement already satisfied: decorator>=4.3.0 in c:\\users\\harshitha\\anaconda3\\lib\\site-packages (from networkx>=2.4->visions[type_image_path]==0.7.5->pandas_profiling) (5.0.9)\n",
      "Requirement already satisfied: pytz>=2020.1 in c:\\users\\harshitha\\anaconda3\\lib\\site-packages (from pandas!=1.4.0,<1.6,>1.1->pandas_profiling) (2021.1)\n",
      "Requirement already satisfied: joblib>=0.14.1 in c:\\users\\harshitha\\anaconda3\\lib\\site-packages (from phik<0.13,>=0.11.1->pandas_profiling) (1.0.1)\n",
      "Requirement already satisfied: typing-extensions>=4.1.0 in c:\\users\\harshitha\\anaconda3\\lib\\site-packages (from pydantic<1.11,>=1.8.1->pandas_profiling) (4.4.0)\n",
      "Requirement already satisfied: chardet<5,>=3.0.2 in c:\\users\\harshitha\\anaconda3\\lib\\site-packages (from requests<2.29,>=2.24.0->pandas_profiling) (4.0.0)\n",
      "Requirement already satisfied: certifi>=2017.4.17 in c:\\users\\harshitha\\anaconda3\\lib\\site-packages (from requests<2.29,>=2.24.0->pandas_profiling) (2020.12.5)\n",
      "Requirement already satisfied: idna<3,>=2.5 in c:\\users\\harshitha\\anaconda3\\lib\\site-packages (from requests<2.29,>=2.24.0->pandas_profiling) (2.10)\n",
      "Requirement already satisfied: urllib3<1.27,>=1.21.1 in c:\\users\\harshitha\\anaconda3\\lib\\site-packages (from requests<2.29,>=2.24.0->pandas_profiling) (1.26.4)\n",
      "Requirement already satisfied: patsy>=0.5.2 in c:\\users\\harshitha\\anaconda3\\lib\\site-packages (from statsmodels<0.14,>=0.13.2->pandas_profiling) (0.5.3)\n",
      "Requirement already satisfied: PyWavelets in c:\\users\\harshitha\\anaconda3\\lib\\site-packages (from imagehash->visions[type_image_path]==0.7.5->pandas_profiling) (1.1.1)\n",
      "Building wheels for collected packages: htmlmin\n",
      "  Building wheel for htmlmin (setup.py): started\n",
      "  Building wheel for htmlmin (setup.py): finished with status 'done'Note: you may need to restart the kernel to use updated packages.\n",
      "\n",
      "  Created wheel for htmlmin: filename=htmlmin-0.1.12-py3-none-any.whl size=27085 sha256=89c1be09c68465ef5b20c5c23ce4303cd8a216a85ba3ac42256dfb4be008c283\n",
      "  Stored in directory: c:\\users\\harshitha\\appdata\\local\\pip\\cache\\wheels\\23\\14\\6e\\4be5bfeeb027f4939a01764b48edd5996acf574b0913fe5243\n",
      "Successfully built htmlmin\n",
      "Installing collected packages: tangled-up-in-unicode, multimethod, visions, imagehash, typeguard, statsmodels, phik, htmlmin, pandas-profiling\n",
      "  Attempting uninstall: statsmodels\n",
      "    Found existing installation: statsmodels 0.12.2\n",
      "    Uninstalling statsmodels-0.12.2:\n",
      "      Successfully uninstalled statsmodels-0.12.2\n",
      "Successfully installed htmlmin-0.1.12 imagehash-4.3.1 multimethod-1.9 pandas-profiling-3.5.0 phik-0.12.2 statsmodels-0.13.5 tangled-up-in-unicode-0.2.0 typeguard-2.13.3 visions-0.7.5\n"
     ]
    }
   ],
   "source": [
    "pip install pandas_profiling"
   ]
  },
  {
   "cell_type": "code",
   "execution_count": 25,
   "metadata": {
    "colab": {
     "base_uri": "https://localhost:8080/",
     "height": 35
    },
    "id": "EoHt4Xqe-02q",
    "outputId": "14177457-dac4-4f88-f3e8-55acc86745f5"
   },
   "outputs": [
    {
     "name": "stderr",
     "output_type": "stream",
     "text": [
      "Pandas backend loaded 1.5.1\n",
      "Numpy backend loaded 1.22.4\n",
      "Pyspark backend NOT loaded\n",
      "Python backend loaded\n"
     ]
    },
    {
     "data": {
      "application/vnd.jupyter.widget-view+json": {
       "model_id": "be2b7cb387d74171909d1e65ef3714bc",
       "version_major": 2,
       "version_minor": 0
      },
      "text/plain": [
       "Summarize dataset:   0%|          | 0/5 [00:00<?, ?it/s]"
      ]
     },
     "metadata": {},
     "output_type": "display_data"
    },
    {
     "name": "stderr",
     "output_type": "stream",
     "text": [
      "C:\\Users\\harshitha\\anaconda3\\lib\\site-packages\\multimethod\\__init__.py:315: FutureWarning: In a future version, `df.iloc[:, i] = newvals` will attempt to set the values inplace instead of always setting a new array. To retain the old behavior, use either `df[df.columns[i]] = newvals` or, if columns are non-unique, `df.isetitem(i, newvals)`\n",
      "  return func(*args, **kwargs)\n",
      "C:\\Users\\harshitha\\anaconda3\\lib\\site-packages\\multimethod\\__init__.py:315: FutureWarning: The default value of numeric_only in DataFrame.corr is deprecated. In a future version, it will default to False. Select only valid columns or specify the value of numeric_only to silence this warning.\n",
      "  return func(*args, **kwargs)\n"
     ]
    },
    {
     "data": {
      "application/vnd.jupyter.widget-view+json": {
       "model_id": "bd825963475a49368ca3cb7981194669",
       "version_major": 2,
       "version_minor": 0
      },
      "text/plain": [
       "Generate report structure:   0%|          | 0/1 [00:00<?, ?it/s]"
      ]
     },
     "metadata": {},
     "output_type": "display_data"
    },
    {
     "data": {
      "application/vnd.jupyter.widget-view+json": {
       "model_id": "4f122f80c5064577bea25f7b4695853c",
       "version_major": 2,
       "version_minor": 0
      },
      "text/plain": [
       "Render HTML:   0%|          | 0/1 [00:00<?, ?it/s]"
      ]
     },
     "metadata": {},
     "output_type": "display_data"
    },
    {
     "data": {
      "application/vnd.jupyter.widget-view+json": {
       "model_id": "28caec88fbb4435298b1ab212756f7fb",
       "version_major": 2,
       "version_minor": 0
      },
      "text/plain": [
       "Export report to file:   0%|          | 0/1 [00:00<?, ?it/s]"
      ]
     },
     "metadata": {},
     "output_type": "display_data"
    }
   ],
   "source": [
    "from pandas_profiling import ProfileReport\n",
    "profile = ProfileReport(df, title=\"Pandas Profiling Report\")\n",
    "profile.to_file(\"hv_report.html\")"
   ]
  },
  {
   "cell_type": "markdown",
   "metadata": {
    "id": "WYJiFm92Bza-"
   },
   "source": [
    "![image.png](data:image/png;base64,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)"
   ]
  },
  {
   "cell_type": "markdown",
   "metadata": {
    "id": "wcp9Tb1EB1tm"
   },
   "source": [
    "3. Manual Plotting"
   ]
  },
  {
   "cell_type": "code",
   "execution_count": 17,
   "metadata": {
    "id": "JNi-MsSJAWr_"
   },
   "outputs": [],
   "source": [
    "df_copy = df.copy()"
   ]
  },
  {
   "cell_type": "code",
   "execution_count": 18,
   "metadata": {
    "colab": {
     "base_uri": "https://localhost:8080/",
     "height": 332
    },
    "id": "O1h1TfNYQCiu",
    "outputId": "2dda5e47-8511-415c-cc1a-eb1dc07420c8"
   },
   "outputs": [
    {
     "data": {
      "text/html": [
       "<div>\n",
       "<style scoped>\n",
       "    .dataframe tbody tr th:only-of-type {\n",
       "        vertical-align: middle;\n",
       "    }\n",
       "\n",
       "    .dataframe tbody tr th {\n",
       "        vertical-align: top;\n",
       "    }\n",
       "\n",
       "    .dataframe thead th {\n",
       "        text-align: right;\n",
       "    }\n",
       "</style>\n",
       "<table border=\"1\" class=\"dataframe\">\n",
       "  <thead>\n",
       "    <tr style=\"text-align: right;\">\n",
       "      <th></th>\n",
       "      <th>index</th>\n",
       "      <th>Country</th>\n",
       "      <th>Year</th>\n",
       "      <th>Status</th>\n",
       "      <th>Adult Mortality</th>\n",
       "      <th>infant deaths</th>\n",
       "      <th>Alcohol</th>\n",
       "      <th>percentage expenditure</th>\n",
       "      <th>Hepatitis B</th>\n",
       "      <th>Measles</th>\n",
       "      <th>...</th>\n",
       "      <th>Total expenditure</th>\n",
       "      <th>Diphtheria</th>\n",
       "      <th>HIV/AIDS</th>\n",
       "      <th>GDP</th>\n",
       "      <th>Population</th>\n",
       "      <th>thinness  1-19 years</th>\n",
       "      <th>thinness 5-9 years</th>\n",
       "      <th>Income composition of resources</th>\n",
       "      <th>Schooling</th>\n",
       "      <th>Life expectancy</th>\n",
       "    </tr>\n",
       "  </thead>\n",
       "  <tbody>\n",
       "    <tr>\n",
       "      <th>0</th>\n",
       "      <td>0</td>\n",
       "      <td>Afghanistan</td>\n",
       "      <td>2015</td>\n",
       "      <td>Developing</td>\n",
       "      <td>263.0</td>\n",
       "      <td>62</td>\n",
       "      <td>0.010</td>\n",
       "      <td>71.279624</td>\n",
       "      <td>65.0</td>\n",
       "      <td>1154</td>\n",
       "      <td>...</td>\n",
       "      <td>8.16</td>\n",
       "      <td>65.0</td>\n",
       "      <td>0.1</td>\n",
       "      <td>584.259210</td>\n",
       "      <td>33736494.0</td>\n",
       "      <td>17.2</td>\n",
       "      <td>17.3</td>\n",
       "      <td>0.479</td>\n",
       "      <td>10.1</td>\n",
       "      <td>65.0</td>\n",
       "    </tr>\n",
       "    <tr>\n",
       "      <th>16</th>\n",
       "      <td>16</td>\n",
       "      <td>Albania</td>\n",
       "      <td>2015</td>\n",
       "      <td>Developing</td>\n",
       "      <td>74.0</td>\n",
       "      <td>0</td>\n",
       "      <td>4.600</td>\n",
       "      <td>364.975229</td>\n",
       "      <td>99.0</td>\n",
       "      <td>0</td>\n",
       "      <td>...</td>\n",
       "      <td>6.00</td>\n",
       "      <td>99.0</td>\n",
       "      <td>0.1</td>\n",
       "      <td>3954.227830</td>\n",
       "      <td>28873.0</td>\n",
       "      <td>1.2</td>\n",
       "      <td>1.3</td>\n",
       "      <td>0.762</td>\n",
       "      <td>14.2</td>\n",
       "      <td>77.8</td>\n",
       "    </tr>\n",
       "    <tr>\n",
       "      <th>32</th>\n",
       "      <td>32</td>\n",
       "      <td>Algeria</td>\n",
       "      <td>2015</td>\n",
       "      <td>Developing</td>\n",
       "      <td>19.0</td>\n",
       "      <td>21</td>\n",
       "      <td>5.285</td>\n",
       "      <td>0.000000</td>\n",
       "      <td>95.0</td>\n",
       "      <td>63</td>\n",
       "      <td>...</td>\n",
       "      <td>7.08</td>\n",
       "      <td>95.0</td>\n",
       "      <td>0.1</td>\n",
       "      <td>4132.762920</td>\n",
       "      <td>39871528.0</td>\n",
       "      <td>6.0</td>\n",
       "      <td>5.8</td>\n",
       "      <td>0.743</td>\n",
       "      <td>14.4</td>\n",
       "      <td>75.6</td>\n",
       "    </tr>\n",
       "    <tr>\n",
       "      <th>48</th>\n",
       "      <td>48</td>\n",
       "      <td>Angola</td>\n",
       "      <td>2015</td>\n",
       "      <td>Developing</td>\n",
       "      <td>335.0</td>\n",
       "      <td>66</td>\n",
       "      <td>5.285</td>\n",
       "      <td>0.000000</td>\n",
       "      <td>64.0</td>\n",
       "      <td>118</td>\n",
       "      <td>...</td>\n",
       "      <td>7.08</td>\n",
       "      <td>64.0</td>\n",
       "      <td>1.9</td>\n",
       "      <td>3695.793748</td>\n",
       "      <td>2785935.0</td>\n",
       "      <td>8.3</td>\n",
       "      <td>8.2</td>\n",
       "      <td>0.531</td>\n",
       "      <td>11.4</td>\n",
       "      <td>52.4</td>\n",
       "    </tr>\n",
       "    <tr>\n",
       "      <th>64</th>\n",
       "      <td>64</td>\n",
       "      <td>Antigua and Barbuda</td>\n",
       "      <td>2015</td>\n",
       "      <td>Developing</td>\n",
       "      <td>13.0</td>\n",
       "      <td>0</td>\n",
       "      <td>5.285</td>\n",
       "      <td>0.000000</td>\n",
       "      <td>99.0</td>\n",
       "      <td>0</td>\n",
       "      <td>...</td>\n",
       "      <td>7.08</td>\n",
       "      <td>99.0</td>\n",
       "      <td>0.2</td>\n",
       "      <td>13566.954100</td>\n",
       "      <td>2076086.0</td>\n",
       "      <td>3.3</td>\n",
       "      <td>3.3</td>\n",
       "      <td>0.784</td>\n",
       "      <td>13.9</td>\n",
       "      <td>76.4</td>\n",
       "    </tr>\n",
       "  </tbody>\n",
       "</table>\n",
       "<p>5 rows × 23 columns</p>\n",
       "</div>"
      ],
      "text/plain": [
       "    index              Country  Year      Status  Adult Mortality  \\\n",
       "0       0          Afghanistan  2015  Developing            263.0   \n",
       "16     16              Albania  2015  Developing             74.0   \n",
       "32     32              Algeria  2015  Developing             19.0   \n",
       "48     48               Angola  2015  Developing            335.0   \n",
       "64     64  Antigua and Barbuda  2015  Developing             13.0   \n",
       "\n",
       "    infant deaths  Alcohol  percentage expenditure  Hepatitis B  Measles   \\\n",
       "0              62    0.010               71.279624         65.0      1154   \n",
       "16              0    4.600              364.975229         99.0         0   \n",
       "32             21    5.285                0.000000         95.0        63   \n",
       "48             66    5.285                0.000000         64.0       118   \n",
       "64              0    5.285                0.000000         99.0         0   \n",
       "\n",
       "    ...  Total expenditure  Diphtheria    HIV/AIDS           GDP  Population  \\\n",
       "0   ...               8.16         65.0        0.1    584.259210  33736494.0   \n",
       "16  ...               6.00         99.0        0.1   3954.227830     28873.0   \n",
       "32  ...               7.08         95.0        0.1   4132.762920  39871528.0   \n",
       "48  ...               7.08         64.0        1.9   3695.793748   2785935.0   \n",
       "64  ...               7.08         99.0        0.2  13566.954100   2076086.0   \n",
       "\n",
       "     thinness  1-19 years   thinness 5-9 years  \\\n",
       "0                    17.2                 17.3   \n",
       "16                    1.2                  1.3   \n",
       "32                    6.0                  5.8   \n",
       "48                    8.3                  8.2   \n",
       "64                    3.3                  3.3   \n",
       "\n",
       "    Income composition of resources  Schooling  Life expectancy   \n",
       "0                             0.479       10.1              65.0  \n",
       "16                            0.762       14.2              77.8  \n",
       "32                            0.743       14.4              75.6  \n",
       "48                            0.531       11.4              52.4  \n",
       "64                            0.784       13.9              76.4  \n",
       "\n",
       "[5 rows x 23 columns]"
      ]
     },
     "execution_count": 18,
     "metadata": {},
     "output_type": "execute_result"
    }
   ],
   "source": [
    "df_copy.head()"
   ]
  },
  {
   "cell_type": "markdown",
   "metadata": {
    "id": "yEuD780hQk8L"
   },
   "source": [
    "3.1 Box Plot for Outliers"
   ]
  },
  {
   "cell_type": "code",
   "execution_count": 19,
   "metadata": {
    "colab": {
     "base_uri": "https://localhost:8080/"
    },
    "id": "EadLj7fpRngD",
    "outputId": "d4cb5497-c33d-440b-a8b7-0942c996e12f"
   },
   "outputs": [
    {
     "data": {
      "text/plain": [
       "Index(['index', 'Country', 'Year', 'Status', 'Adult Mortality',\n",
       "       'infant deaths', 'Alcohol', 'percentage expenditure', 'Hepatitis B',\n",
       "       'Measles ', ' BMI ', 'under-five deaths ', 'Polio', 'Total expenditure',\n",
       "       'Diphtheria ', ' HIV/AIDS', 'GDP', 'Population',\n",
       "       ' thinness  1-19 years', ' thinness 5-9 years',\n",
       "       'Income composition of resources', 'Schooling', 'Life expectancy '],\n",
       "      dtype='object')"
      ]
     },
     "execution_count": 19,
     "metadata": {},
     "output_type": "execute_result"
    }
   ],
   "source": [
    "df_copy.columns"
   ]
  },
  {
   "cell_type": "code",
   "execution_count": 20,
   "metadata": {
    "id": "s4uf8hRFQM9W"
   },
   "outputs": [],
   "source": [
    "col_dict = {'Life expectancy ': 1, 'Adult Mortality': 2, 'Alcohol': 3, 'Percentage expenditure': 4, 'Hepatitis B': 5, 'Measles ': 6, ' BMI ': 7, 'under-five deaths ': 8, 'Polio' : 9, 'Total expenditure' :10,\n",
    "       'Diphtheria': 11, 'HIV/AIDS': 12, 'GDP': 13, 'Population': 14, 'Thinness_1-19_years': 15, 'Thinness_5-9_years': 16, 'Income_composition_of_resources': 17, 'Schooling': 18, 'Infant_deaths': 19}"
   ]
  },
  {
   "cell_type": "code",
   "execution_count": 21,
   "metadata": {
    "colab": {
     "base_uri": "https://localhost:8080/",
     "height": 833
    },
    "id": "eEN9pugPRA9T",
    "outputId": "5f06c46f-83f1-4ea0-9564-e78c4fa37e43"
   },
   "outputs": [
    {
     "ename": "KeyError",
     "evalue": "'Percentage expenditure'",
     "output_type": "error",
     "traceback": [
      "\u001b[1;31m---------------------------------------------------------------------------\u001b[0m",
      "\u001b[1;31mKeyError\u001b[0m                                  Traceback (most recent call last)",
      "\u001b[1;32m~\\anaconda3\\lib\\site-packages\\pandas\\core\\indexes\\base.py\u001b[0m in \u001b[0;36mget_loc\u001b[1;34m(self, key, method, tolerance)\u001b[0m\n\u001b[0;32m   3802\u001b[0m             \u001b[1;32mtry\u001b[0m\u001b[1;33m:\u001b[0m\u001b[1;33m\u001b[0m\u001b[1;33m\u001b[0m\u001b[0m\n\u001b[1;32m-> 3803\u001b[1;33m                 \u001b[1;32mreturn\u001b[0m \u001b[0mself\u001b[0m\u001b[1;33m.\u001b[0m\u001b[0m_engine\u001b[0m\u001b[1;33m.\u001b[0m\u001b[0mget_loc\u001b[0m\u001b[1;33m(\u001b[0m\u001b[0mcasted_key\u001b[0m\u001b[1;33m)\u001b[0m\u001b[1;33m\u001b[0m\u001b[1;33m\u001b[0m\u001b[0m\n\u001b[0m\u001b[0;32m   3804\u001b[0m             \u001b[1;32mexcept\u001b[0m \u001b[0mKeyError\u001b[0m \u001b[1;32mas\u001b[0m \u001b[0merr\u001b[0m\u001b[1;33m:\u001b[0m\u001b[1;33m\u001b[0m\u001b[1;33m\u001b[0m\u001b[0m\n",
      "\u001b[1;32m~\\anaconda3\\lib\\site-packages\\pandas\\_libs\\index.pyx\u001b[0m in \u001b[0;36mpandas._libs.index.IndexEngine.get_loc\u001b[1;34m()\u001b[0m\n",
      "\u001b[1;32m~\\anaconda3\\lib\\site-packages\\pandas\\_libs\\index.pyx\u001b[0m in \u001b[0;36mpandas._libs.index.IndexEngine.get_loc\u001b[1;34m()\u001b[0m\n",
      "\u001b[1;32mpandas\\_libs\\hashtable_class_helper.pxi\u001b[0m in \u001b[0;36mpandas._libs.hashtable.PyObjectHashTable.get_item\u001b[1;34m()\u001b[0m\n",
      "\u001b[1;32mpandas\\_libs\\hashtable_class_helper.pxi\u001b[0m in \u001b[0;36mpandas._libs.hashtable.PyObjectHashTable.get_item\u001b[1;34m()\u001b[0m\n",
      "\u001b[1;31mKeyError\u001b[0m: 'Percentage expenditure'",
      "\nThe above exception was the direct cause of the following exception:\n",
      "\u001b[1;31mKeyError\u001b[0m                                  Traceback (most recent call last)",
      "\u001b[1;32m<ipython-input-21-7c5a4d61a07c>\u001b[0m in \u001b[0;36m<module>\u001b[1;34m\u001b[0m\n\u001b[0;32m      3\u001b[0m \u001b[1;32mfor\u001b[0m \u001b[0mvariable\u001b[0m\u001b[1;33m,\u001b[0m\u001b[0mi\u001b[0m \u001b[1;32min\u001b[0m \u001b[0mcol_dict\u001b[0m\u001b[1;33m.\u001b[0m\u001b[0mitems\u001b[0m\u001b[1;33m(\u001b[0m\u001b[1;33m)\u001b[0m\u001b[1;33m:\u001b[0m\u001b[1;33m\u001b[0m\u001b[1;33m\u001b[0m\u001b[0m\n\u001b[0;32m      4\u001b[0m                      \u001b[0mplt\u001b[0m\u001b[1;33m.\u001b[0m\u001b[0msubplot\u001b[0m\u001b[1;33m(\u001b[0m\u001b[1;36m5\u001b[0m\u001b[1;33m,\u001b[0m\u001b[1;36m4\u001b[0m\u001b[1;33m,\u001b[0m\u001b[0mi\u001b[0m\u001b[1;33m)\u001b[0m\u001b[1;33m\u001b[0m\u001b[1;33m\u001b[0m\u001b[0m\n\u001b[1;32m----> 5\u001b[1;33m                      \u001b[0mplt\u001b[0m\u001b[1;33m.\u001b[0m\u001b[0mboxplot\u001b[0m\u001b[1;33m(\u001b[0m\u001b[0mdf\u001b[0m\u001b[1;33m[\u001b[0m\u001b[0mvariable\u001b[0m\u001b[1;33m]\u001b[0m\u001b[1;33m,\u001b[0m\u001b[0mwhis\u001b[0m\u001b[1;33m=\u001b[0m\u001b[1;36m1.5\u001b[0m\u001b[1;33m)\u001b[0m\u001b[1;33m\u001b[0m\u001b[1;33m\u001b[0m\u001b[0m\n\u001b[0m\u001b[0;32m      6\u001b[0m                      \u001b[0mplt\u001b[0m\u001b[1;33m.\u001b[0m\u001b[0mtitle\u001b[0m\u001b[1;33m(\u001b[0m\u001b[0mvariable\u001b[0m\u001b[1;33m)\u001b[0m\u001b[1;33m\u001b[0m\u001b[1;33m\u001b[0m\u001b[0m\n\u001b[0;32m      7\u001b[0m \u001b[1;33m\u001b[0m\u001b[0m\n",
      "\u001b[1;32m~\\anaconda3\\lib\\site-packages\\pandas\\core\\frame.py\u001b[0m in \u001b[0;36m__getitem__\u001b[1;34m(self, key)\u001b[0m\n\u001b[0;32m   3802\u001b[0m             \u001b[1;32mif\u001b[0m \u001b[0mself\u001b[0m\u001b[1;33m.\u001b[0m\u001b[0mcolumns\u001b[0m\u001b[1;33m.\u001b[0m\u001b[0mnlevels\u001b[0m \u001b[1;33m>\u001b[0m \u001b[1;36m1\u001b[0m\u001b[1;33m:\u001b[0m\u001b[1;33m\u001b[0m\u001b[1;33m\u001b[0m\u001b[0m\n\u001b[0;32m   3803\u001b[0m                 \u001b[1;32mreturn\u001b[0m \u001b[0mself\u001b[0m\u001b[1;33m.\u001b[0m\u001b[0m_getitem_multilevel\u001b[0m\u001b[1;33m(\u001b[0m\u001b[0mkey\u001b[0m\u001b[1;33m)\u001b[0m\u001b[1;33m\u001b[0m\u001b[1;33m\u001b[0m\u001b[0m\n\u001b[1;32m-> 3804\u001b[1;33m             \u001b[0mindexer\u001b[0m \u001b[1;33m=\u001b[0m \u001b[0mself\u001b[0m\u001b[1;33m.\u001b[0m\u001b[0mcolumns\u001b[0m\u001b[1;33m.\u001b[0m\u001b[0mget_loc\u001b[0m\u001b[1;33m(\u001b[0m\u001b[0mkey\u001b[0m\u001b[1;33m)\u001b[0m\u001b[1;33m\u001b[0m\u001b[1;33m\u001b[0m\u001b[0m\n\u001b[0m\u001b[0;32m   3805\u001b[0m             \u001b[1;32mif\u001b[0m \u001b[0mis_integer\u001b[0m\u001b[1;33m(\u001b[0m\u001b[0mindexer\u001b[0m\u001b[1;33m)\u001b[0m\u001b[1;33m:\u001b[0m\u001b[1;33m\u001b[0m\u001b[1;33m\u001b[0m\u001b[0m\n\u001b[0;32m   3806\u001b[0m                 \u001b[0mindexer\u001b[0m \u001b[1;33m=\u001b[0m \u001b[1;33m[\u001b[0m\u001b[0mindexer\u001b[0m\u001b[1;33m]\u001b[0m\u001b[1;33m\u001b[0m\u001b[1;33m\u001b[0m\u001b[0m\n",
      "\u001b[1;32m~\\anaconda3\\lib\\site-packages\\pandas\\core\\indexes\\base.py\u001b[0m in \u001b[0;36mget_loc\u001b[1;34m(self, key, method, tolerance)\u001b[0m\n\u001b[0;32m   3803\u001b[0m                 \u001b[1;32mreturn\u001b[0m \u001b[0mself\u001b[0m\u001b[1;33m.\u001b[0m\u001b[0m_engine\u001b[0m\u001b[1;33m.\u001b[0m\u001b[0mget_loc\u001b[0m\u001b[1;33m(\u001b[0m\u001b[0mcasted_key\u001b[0m\u001b[1;33m)\u001b[0m\u001b[1;33m\u001b[0m\u001b[1;33m\u001b[0m\u001b[0m\n\u001b[0;32m   3804\u001b[0m             \u001b[1;32mexcept\u001b[0m \u001b[0mKeyError\u001b[0m \u001b[1;32mas\u001b[0m \u001b[0merr\u001b[0m\u001b[1;33m:\u001b[0m\u001b[1;33m\u001b[0m\u001b[1;33m\u001b[0m\u001b[0m\n\u001b[1;32m-> 3805\u001b[1;33m                 \u001b[1;32mraise\u001b[0m \u001b[0mKeyError\u001b[0m\u001b[1;33m(\u001b[0m\u001b[0mkey\u001b[0m\u001b[1;33m)\u001b[0m \u001b[1;32mfrom\u001b[0m \u001b[0merr\u001b[0m\u001b[1;33m\u001b[0m\u001b[1;33m\u001b[0m\u001b[0m\n\u001b[0m\u001b[0;32m   3806\u001b[0m             \u001b[1;32mexcept\u001b[0m \u001b[0mTypeError\u001b[0m\u001b[1;33m:\u001b[0m\u001b[1;33m\u001b[0m\u001b[1;33m\u001b[0m\u001b[0m\n\u001b[0;32m   3807\u001b[0m                 \u001b[1;31m# If we have a listlike key, _check_indexing_error will raise\u001b[0m\u001b[1;33m\u001b[0m\u001b[1;33m\u001b[0m\u001b[1;33m\u001b[0m\u001b[0m\n",
      "\u001b[1;31mKeyError\u001b[0m: 'Percentage expenditure'"
     ]
    },
    {
     "data": {
      "image/png": "[encoded data removed]",
      "text/plain": [
       "<Figure size 1440x2160 with 4 Axes>"
      ]
     },
     "metadata": {
      "needs_background": "light"
     },
     "output_type": "display_data"
    }
   ],
   "source": [
    "plt.figure(figsize=(20,30))\n",
    "\n",
    "for variable,i in col_dict.items():\n",
    "                     plt.subplot(5,4,i)\n",
    "                     plt.boxplot(df[variable],whis=1.5)\n",
    "                     plt.title(variable)\n",
    "\n",
    "plt.show()"
   ]
  },
  {
   "cell_type": "markdown",
   "metadata": {
    "id": "umgKW6PDyBVD"
   },
   "source": [
    "# **Training a Linear Regression model**"
   ]
  },
  {
   "cell_type": "markdown",
   "metadata": {
    "id": "dxoMOlmb3MK5"
   },
   "source": [
    "### Label Encoding the categorical variable"
   ]
  },
  {
   "cell_type": "code",
   "execution_count": null,
   "metadata": {
    "id": "Cd_1nZX20lgh"
   },
   "outputs": [],
   "source": [
    "# One Hot Encoding the Status column\n",
    "# One Hot Encoding basically splits the unique values of a column to different columns\n",
    "\n",
    "one_hot_encoder_status = OneHotEncoder()\n",
    "status_reshaped = np.array(df['Status']).reshape(-1, 1)\n",
    "status_values = one_hot_encoder_status.fit_transform(status_reshaped)\n",
    "\n",
    "status_col = df['Status'].unique()\n",
    "status_df = pd.DataFrame(status_values.toarray(), columns = status_col)\n",
    "\n",
    "df = pd.concat([df, status_df], axis = 1)\n",
    "df = df.drop(['Status'], axis = 1)"
   ]
  },
  {
   "cell_type": "code",
   "execution_count": null,
   "metadata": {
    "id": "7vYmQEZJ5abb"
   },
   "outputs": [],
   "source": [
    "df.drop(['index'], axis = 1, inplace = True)"
   ]
  },
  {
   "cell_type": "code",
   "execution_count": null,
   "metadata": {
    "id": "18vykJur1Tya"
   },
   "outputs": [],
   "source": [
    "one_hot_encoder_country = OneHotEncoder()\n",
    "country_reshaped = np.array(df['Country']).reshape(-1, 1)\n",
    "country_values = one_hot_encoder_country.fit_transform(country_reshaped)\n",
    "\n",
    "country_col = df['Country'].unique()\n",
    "country_df = pd.DataFrame(country_values.toarray(), columns = country_col)\n",
    "\n",
    "df = pd.concat([df, country_df], axis = 1)\n",
    "df = df.drop(['Country'], axis = 1)"
   ]
  },
  {
   "cell_type": "markdown",
   "metadata": {
    "id": "8vnh2ohiqsKz"
   },
   "source": [
    "### Outlier Analysis"
   ]
  },
  {
   "cell_type": "code",
   "execution_count": null,
   "metadata": {
    "id": "aAb7TvQusfuS"
   },
   "outputs": [],
   "source": [
    "def outlierAnalysis(df, col_name):\n",
    "\n",
    "  df_score = pd.DataFrame(zscore(df[col_name]))\n",
    "\n",
    "  score_index = []\n",
    "  for i in range(len(df_score)):\n",
    "    if (df[col_name][i]>3) or (df[col_name][i]<-3):\n",
    "      score_index.append(i)\n",
    "    else:\n",
    "      pass\n",
    "\n",
    "  return score_index"
   ]
  },
  {
   "cell_type": "code",
   "execution_count": null,
   "metadata": {
    "id": "JHWPBkbJtp86"
   },
   "outputs": [],
   "source": [
    "# outlierAnalysis(df, 'Polio')"
   ]
  },
  {
   "cell_type": "markdown",
   "metadata": {
    "id": "f0RmRLBozNSu"
   },
   "source": [
    "Each column seems to have great huge amount of rows with absolute value so, we avoid using this methd to inrease the efficiency of the model."
   ]
  },
  {
   "cell_type": "markdown",
   "metadata": {
    "id": "6_aAzyR63RaR"
   },
   "source": [
    "### Model Training"
   ]
  },
  {
   "cell_type": "code",
   "execution_count": null,
   "metadata": {
    "colab": {
     "base_uri": "https://localhost:8080/",
     "height": 677
    },
    "id": "RvmZAJNTQYal",
    "outputId": "8ae7eb25-ad99-4192-e4fc-0379ca74f62b"
   },
   "outputs": [],
   "source": [
    "# Selecting columns with moderate to high correlation values\n",
    "sns.set(rc={'figure.figsize':(20, 8.27)})\n",
    "corr_map = sns.heatmap(df[['Year', 'Adult Mortality', 'infant deaths', 'Alcohol', 'percentage expenditure', 'Hepatitis B', 'Measles ', ' BMI ', 'under-five deaths ', 'Polio', 'Total expenditure', 'Diphtheria ',\n",
    "       ' HIV/AIDS', 'GDP', 'Population', ' thinness  1-19 years', ' thinness 5-9 years', 'Income composition of resources', 'Schooling', 'Life expectancy ', 'Developing', 'Developed']].corr().round(2), annot=True)"
   ]
  },
  {
   "cell_type": "code",
   "execution_count": null,
   "metadata": {
    "id": "3DuICDHQzqKx"
   },
   "outputs": [],
   "source": [
    "# Splitting the data into Features and Targets\n",
    "\n",
    "X = df.drop('Life expectancy ', axis = 1) # X --> Features\n",
    "X = X.apply(pd.to_numeric, errors='coerce')\n",
    "y = df['Life expectancy '] # y --> Target Variable\n",
    "y = y.apply(pd.to_numeric, errors='coerce')"
   ]
  },
  {
   "cell_type": "code",
   "execution_count": null,
   "metadata": {
    "id": "b30B-zNaz8Sh"
   },
   "outputs": [],
   "source": [
    "# Splitting the data into training data and testing data\n",
    "\n",
    "X_train, X_test, y_train, y_test = train_test_split(X, y, test_size = 0.3, random_state = 5)\n",
    "linear_regressor = LinearRegression()"
   ]
  },
  {
   "cell_type": "code",
   "execution_count": null,
   "metadata": {
    "id": "KmQMkfTc0BNZ"
   },
   "outputs": [],
   "source": [
    "# Fitting the Data\n",
    "linear_regressor.fit(X_train, y_train)\n",
    "\n",
    "# Predicting the Target Variable\n",
    "y_pred = linear_regressor.predict(X_test)"
   ]
  },
  {
   "cell_type": "markdown",
   "metadata": {
    "id": "T8sj-KbX4bpw"
   },
   "source": [
    "### Regression Plot"
   ]
  },
  {
   "cell_type": "code",
   "execution_count": null,
   "metadata": {
    "colab": {
     "base_uri": "https://localhost:8080/",
     "height": 682
    },
    "id": "O7ghED2f0CiJ",
    "outputId": "eaa4ffcc-1a87-4342-fc62-9d4c5e3a15c6"
   },
   "outputs": [],
   "source": [
    "# Plotting the true and predicted value \n",
    "fig = plt.figure(figsize =(20, 10))\n",
    "sns.regplot(y_test, y_pred)\n",
    "plt.xlabel(\"LE Test\")\n",
    "plt.ylabel(\"LE Predicted\")\n",
    "plt.title(\"True Value vs Predicted Value\")\n",
    "plt.show()"
   ]
  },
  {
   "cell_type": "markdown",
   "metadata": {
    "id": "xti7VqsR4euQ"
   },
   "source": [
    "### Accuracy Count"
   ]
  },
  {
   "cell_type": "code",
   "execution_count": null,
   "metadata": {
    "colab": {
     "base_uri": "https://localhost:8080/"
    },
    "id": "mAkylqdv0EPx",
    "outputId": "5aaed7e7-5e52-4d52-dadf-ec2015b1b517"
   },
   "outputs": [],
   "source": [
    "# Chcking the accuracy of the model \n",
    "print(\"The accuracy of the model is\", linear_regressor.score(X_test, y_test))"
   ]
  },
  {
   "cell_type": "code",
   "execution_count": null,
   "metadata": {
    "colab": {
     "base_uri": "https://localhost:8080/"
    },
    "id": "0XOQefYX4TcI",
    "outputId": "25d28da1-453c-4629-ef06-55cb3a51c10a"
   },
   "outputs": [],
   "source": [
    "print(\"The r2 score of the model is\", r2_score(y_test, y_pred))"
   ]
  },
  {
   "cell_type": "markdown",
   "metadata": {
    "id": "SJVKTWp_4jSA"
   },
   "source": [
    "### Evaluation Metrics"
   ]
  },
  {
   "cell_type": "code",
   "execution_count": null,
   "metadata": {
    "colab": {
     "base_uri": "https://localhost:8080/"
    },
    "id": "BNKmOYz24U14",
    "outputId": "e8a47bb9-dfa2-4d55-d63a-0cb41e82ecc1"
   },
   "outputs": [],
   "source": [
    "# Evaluation Metrics\n",
    "print(\"The Absolute Mean Error of the model is\", mean_absolute_error(y_test, y_pred))"
   ]
  },
  {
   "cell_type": "code",
   "execution_count": null,
   "metadata": {
    "colab": {
     "base_uri": "https://localhost:8080/"
    },
    "id": "G9QHhyOr4n7Y",
    "outputId": "2ebd9b35-cfc6-4c48-fecb-2c34943b9ccb"
   },
   "outputs": [],
   "source": [
    "print(\"The Mean Squared Error of the model is\", mean_squared_error(y_test, y_pred))"
   ]
  },
  {
   "cell_type": "code",
   "execution_count": null,
   "metadata": {
    "id": "vRz3-HK_4piQ"
   },
   "outputs": [],
   "source": [
    "# Intercept of the model\n",
    "intercept = linear_regressor.intercept_\n",
    "\n",
    "# Coefficeints of the model\n",
    "m = linear_regressor.coef_"
   ]
  },
  {
   "cell_type": "code",
   "execution_count": null,
   "metadata": {
    "colab": {
     "base_uri": "https://localhost:8080/"
    },
    "id": "CvMLtYJr4szI",
    "outputId": "b5785915-4f0f-43e7-bd98-56843712344a"
   },
   "outputs": [],
   "source": [
    "print(\"The intercept of the model is\", intercept, \"\\n\\nThe weights of the features are as follows:\\n\", m)"
   ]
  },
  {
   "cell_type": "markdown",
   "metadata": {
    "id": "oriNTLgT4y3f"
   },
   "source": [
    "### Equation of the model"
   ]
  },
  {
   "cell_type": "code",
   "execution_count": null,
   "metadata": {
    "id": "V4G5-pu84wyQ"
   },
   "outputs": [],
   "source": [
    "# Equation of the model\n",
    "\n",
    "def predictLE(weights, x):\n",
    "\n",
    "  equation = 0\n",
    "  for i in range(len(m)):\n",
    "      equation += (weights[i]*x[i])\n",
    "  equation += intercept\n",
    "  print(\"The Life Expectancy is \" + str(equation))"
   ]
  }
 ],
 "metadata": {
  "colab": {
   "provenance": []
  },
  "kernelspec": {
   "display_name": "Python 3",
   "language": "python",
   "name": "python3"
  },
  "language_info": {
   "codemirror_mode": {
    "name": "ipython",
    "version": 3
   },
   "file_extension": ".py",
   "mimetype": "text/x-python",
   "name": "python",
   "nbconvert_exporter": "python",
   "pygments_lexer": "ipython3",
   "version": "3.8.8"
  }
 },
 "nbformat": 4,
 "nbformat_minor": 1
}
